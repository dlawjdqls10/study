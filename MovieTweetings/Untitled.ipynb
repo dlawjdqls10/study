{
 "cells": [
  {
   "cell_type": "markdown",
   "metadata": {},
   "source": [
    "#  About Data\n",
    "\n",
    "- movies.dat\n",
    "\n",
    "    Contains the items (i.e., movies) that were rated in the tweets, together with their genre metadata in the following format: movie_id::movie_title (movie_year)::genre|genre|genre. For example:\n",
    "\n",
    "    0110912::Pulp Fiction (1994)::Crime|Thriller\n",
    "\n",
    "    The file is UTF-8 encoded to deal with the many foreign movie titles contained in tweets.\n",
    "\n",
    "- ratings.dat\n",
    "\n",
    "    In this file the extracted ratings are stored in the following format: user_id::movie_id::rating::rating_timestamp. For example:\n",
    "\n",
    "    14927::0110912::9::1375657563\n",
    "\n",
    "    The ratings contained in the tweets are scaled from 0 to 10, as is the norm on the IMDb platform. To prevent information loss we have chosen to not down-scale this rating value, so all rating values of this dataset are contained in the interval [0,10].\n",
    "    \n",
    "- users.dat\n",
    "\n",
    "    Contains the mapping of the users ids on their true Twitter id in the following format: userid::twitter_id. For example:\n",
    "\n",
    "    1::177651718\n",
    "\n",
    "    We provide the Twitter id and not the Twitter @handle (username) because while the @handle can be changed, the id will always remain the same. Conversions from Twitter id to @handle can be done by means of an online tool like [Tweeterid] (http://tweeterid.com/) or simply through the Twitter API itself. The mapping provided here again facilitates additional metadata enrichment.\n",
    "    "
   ]
  },
  {
   "cell_type": "code",
   "execution_count": 119,
   "metadata": {},
   "outputs": [],
   "source": [
    "import pandas as pd\n",
    "\n",
    "with open(\"movies.dat\", \"r\", encoding=\"utf-8\") as f:\n",
    "    movies = f.read()\n",
    "\n",
    "with open(\"ratings.dat\", \"r\", encoding=\"utf-8\") as f:\n",
    "    ratings = f.read()\n",
    "\n",
    "with open(\"users.dat\", \"r\", encoding=\"utf-8\") as f:\n",
    "    users = f.read()"
   ]
  },
  {
   "cell_type": "code",
   "execution_count": 120,
   "metadata": {},
   "outputs": [],
   "source": [
    "movies = movies.split(\"\\n\")\n",
    "movie_list = [line.replace(\"(\", \"::\").replace(\")\",\"\").split(\"::\") for line in movies]\n",
    "movie_df = pd.DataFrame(movie_list)\n",
    "\n",
    "ratings = ratings.split(\"\\n\")\n",
    "rating_list = [line.split(\"::\") for line in ratings]\n",
    "rating_df = pd.DataFrame(rating_list)\n",
    "\n",
    "users = users.split(\"\\n\")\n",
    "user_list = [line.split(\"::\") for line in users]\n",
    "user_df = pd.DataFrame(user_list)"
   ]
  },
  {
   "cell_type": "code",
   "execution_count": 122,
   "metadata": {},
   "outputs": [],
   "source": [
    "movie_df.columns = [\"movie_id\", \"movie_title\", \"movie_ year\", \"genres\"]\n",
    "rating_df.columns = [\"user_id\", \"movie_id\", \"rating\", \"rating_timestamp\"]\n",
    "user_df.columns = [\"user_id\", \"twitter_id\"]"
   ]
  },
  {
   "cell_type": "code",
   "execution_count": 124,
   "metadata": {},
   "outputs": [],
   "source": [
    "movie_df = movie_df.set_index(\"movie_id\")\n",
    "user_df = user_df.set_index(\"user_id\")"
   ]
  },
  {
   "cell_type": "code",
   "execution_count": 126,
   "metadata": {},
   "outputs": [
    {
     "data": {
      "text/html": [
       "<div>\n",
       "<style scoped>\n",
       "    .dataframe tbody tr th:only-of-type {\n",
       "        vertical-align: middle;\n",
       "    }\n",
       "\n",
       "    .dataframe tbody tr th {\n",
       "        vertical-align: top;\n",
       "    }\n",
       "\n",
       "    .dataframe thead th {\n",
       "        text-align: right;\n",
       "    }\n",
       "</style>\n",
       "<table border=\"1\" class=\"dataframe\">\n",
       "  <thead>\n",
       "    <tr style=\"text-align: right;\">\n",
       "      <th></th>\n",
       "      <th>movie_title</th>\n",
       "      <th>movie_ year</th>\n",
       "      <th>genres</th>\n",
       "    </tr>\n",
       "    <tr>\n",
       "      <th>movie_id</th>\n",
       "      <th></th>\n",
       "      <th></th>\n",
       "      <th></th>\n",
       "    </tr>\n",
       "  </thead>\n",
       "  <tbody>\n",
       "    <tr>\n",
       "      <th>0000008</th>\n",
       "      <td>Edison Kinetoscopic Record of a Sneeze</td>\n",
       "      <td>1894</td>\n",
       "      <td>Documentary|Short</td>\n",
       "    </tr>\n",
       "    <tr>\n",
       "      <th>0000010</th>\n",
       "      <td>La sortie des usines Lumière</td>\n",
       "      <td>1895</td>\n",
       "      <td>Documentary|Short</td>\n",
       "    </tr>\n",
       "    <tr>\n",
       "      <th>0000012</th>\n",
       "      <td>The Arrival of a Train</td>\n",
       "      <td>1896</td>\n",
       "      <td>Documentary|Short</td>\n",
       "    </tr>\n",
       "    <tr>\n",
       "      <th>25</th>\n",
       "      <td>The Oxford and Cambridge University Boat Race</td>\n",
       "      <td>1895</td>\n",
       "      <td></td>\n",
       "    </tr>\n",
       "    <tr>\n",
       "      <th>0000091</th>\n",
       "      <td>Le manoir du diable</td>\n",
       "      <td>1896</td>\n",
       "      <td>Short|Horror</td>\n",
       "    </tr>\n",
       "  </tbody>\n",
       "</table>\n",
       "</div>"
      ],
      "text/plain": [
       "                                             movie_title movie_ year  \\\n",
       "movie_id                                                               \n",
       "0000008          Edison Kinetoscopic Record of a Sneeze         1894   \n",
       "0000010                    La sortie des usines Lumière         1895   \n",
       "0000012                          The Arrival of a Train         1896   \n",
       "25        The Oxford and Cambridge University Boat Race         1895   \n",
       "0000091                             Le manoir du diable         1896   \n",
       "\n",
       "                     genres  \n",
       "movie_id                     \n",
       "0000008   Documentary|Short  \n",
       "0000010   Documentary|Short  \n",
       "0000012   Documentary|Short  \n",
       "25                           \n",
       "0000091        Short|Horror  "
      ]
     },
     "execution_count": 126,
     "metadata": {},
     "output_type": "execute_result"
    }
   ],
   "source": [
    "movie_df.head()"
   ]
  },
  {
   "cell_type": "code",
   "execution_count": 127,
   "metadata": {},
   "outputs": [
    {
     "data": {
      "text/html": [
       "<div>\n",
       "<style scoped>\n",
       "    .dataframe tbody tr th:only-of-type {\n",
       "        vertical-align: middle;\n",
       "    }\n",
       "\n",
       "    .dataframe tbody tr th {\n",
       "        vertical-align: top;\n",
       "    }\n",
       "\n",
       "    .dataframe thead th {\n",
       "        text-align: right;\n",
       "    }\n",
       "</style>\n",
       "<table border=\"1\" class=\"dataframe\">\n",
       "  <thead>\n",
       "    <tr style=\"text-align: right;\">\n",
       "      <th></th>\n",
       "      <th>twitter_id</th>\n",
       "    </tr>\n",
       "    <tr>\n",
       "      <th>user_id</th>\n",
       "      <th></th>\n",
       "    </tr>\n",
       "  </thead>\n",
       "  <tbody>\n",
       "    <tr>\n",
       "      <th>1</th>\n",
       "      <td>397291295</td>\n",
       "    </tr>\n",
       "    <tr>\n",
       "      <th>2</th>\n",
       "      <td>40501255</td>\n",
       "    </tr>\n",
       "    <tr>\n",
       "      <th>3</th>\n",
       "      <td>417333257</td>\n",
       "    </tr>\n",
       "    <tr>\n",
       "      <th>4</th>\n",
       "      <td>138805259</td>\n",
       "    </tr>\n",
       "    <tr>\n",
       "      <th>5</th>\n",
       "      <td>2452094989</td>\n",
       "    </tr>\n",
       "  </tbody>\n",
       "</table>\n",
       "</div>"
      ],
      "text/plain": [
       "         twitter_id\n",
       "user_id            \n",
       "1         397291295\n",
       "2          40501255\n",
       "3         417333257\n",
       "4         138805259\n",
       "5        2452094989"
      ]
     },
     "execution_count": 127,
     "metadata": {},
     "output_type": "execute_result"
    }
   ],
   "source": [
    "user_df.head()"
   ]
  },
  {
   "cell_type": "code",
   "execution_count": 128,
   "metadata": {},
   "outputs": [
    {
     "data": {
      "text/html": [
       "<div>\n",
       "<style scoped>\n",
       "    .dataframe tbody tr th:only-of-type {\n",
       "        vertical-align: middle;\n",
       "    }\n",
       "\n",
       "    .dataframe tbody tr th {\n",
       "        vertical-align: top;\n",
       "    }\n",
       "\n",
       "    .dataframe thead th {\n",
       "        text-align: right;\n",
       "    }\n",
       "</style>\n",
       "<table border=\"1\" class=\"dataframe\">\n",
       "  <thead>\n",
       "    <tr style=\"text-align: right;\">\n",
       "      <th></th>\n",
       "      <th>user_id</th>\n",
       "      <th>movie_id</th>\n",
       "      <th>rating</th>\n",
       "      <th>rating_timestamp</th>\n",
       "    </tr>\n",
       "  </thead>\n",
       "  <tbody>\n",
       "    <tr>\n",
       "      <th>0</th>\n",
       "      <td>1</td>\n",
       "      <td>0111161</td>\n",
       "      <td>10</td>\n",
       "      <td>1373234211</td>\n",
       "    </tr>\n",
       "    <tr>\n",
       "      <th>1</th>\n",
       "      <td>1</td>\n",
       "      <td>0117060</td>\n",
       "      <td>7</td>\n",
       "      <td>1373415231</td>\n",
       "    </tr>\n",
       "    <tr>\n",
       "      <th>2</th>\n",
       "      <td>1</td>\n",
       "      <td>0120755</td>\n",
       "      <td>6</td>\n",
       "      <td>1373424360</td>\n",
       "    </tr>\n",
       "    <tr>\n",
       "      <th>3</th>\n",
       "      <td>1</td>\n",
       "      <td>0317919</td>\n",
       "      <td>6</td>\n",
       "      <td>1373495763</td>\n",
       "    </tr>\n",
       "    <tr>\n",
       "      <th>4</th>\n",
       "      <td>1</td>\n",
       "      <td>0454876</td>\n",
       "      <td>10</td>\n",
       "      <td>1373621125</td>\n",
       "    </tr>\n",
       "  </tbody>\n",
       "</table>\n",
       "</div>"
      ],
      "text/plain": [
       "  user_id movie_id rating rating_timestamp\n",
       "0       1  0111161     10       1373234211\n",
       "1       1  0117060      7       1373415231\n",
       "2       1  0120755      6       1373424360\n",
       "3       1  0317919      6       1373495763\n",
       "4       1  0454876     10       1373621125"
      ]
     },
     "execution_count": 128,
     "metadata": {},
     "output_type": "execute_result"
    }
   ],
   "source": [
    "rating_df.head()"
   ]
  },
  {
   "cell_type": "code",
   "execution_count": 105,
   "metadata": {},
   "outputs": [
    {
     "name": "stdout",
     "output_type": "stream",
     "text": [
      "영화 종류 : 34438개\n",
      "유저 숫자 : 60284명\n",
      "평점 갯수 : 814506개\n"
     ]
    }
   ],
   "source": [
    "print(f\"영화 종류 : {len(movie_df)}개\")\n",
    "print(f\"유저 숫자 : {len(user_df)}명\")\n",
    "print(f\"평점 갯수 : {len(rating_df)}개\")"
   ]
  },
  {
   "cell_type": "code",
   "execution_count": null,
   "metadata": {},
   "outputs": [],
   "source": []
  }
 ],
 "metadata": {
  "kernelspec": {
   "display_name": "Python 3",
   "language": "python",
   "name": "python3"
  },
  "language_info": {
   "codemirror_mode": {
    "name": "ipython",
    "version": 3
   },
   "file_extension": ".py",
   "mimetype": "text/x-python",
   "name": "python",
   "nbconvert_exporter": "python",
   "pygments_lexer": "ipython3",
   "version": "3.7.2"
  }
 },
 "nbformat": 4,
 "nbformat_minor": 2
}
